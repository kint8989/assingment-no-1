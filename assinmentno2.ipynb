{
 "cells": [
  {
   "cell_type": "code",
   "execution_count": null,
   "id": "10b29afd-6d7c-4e72-9370-fcf587826f5f",
   "metadata": {},
   "outputs": [],
   "source": [
    "1. Who developed Python Programming Language? \n",
    "ans= guido van rossum\n",
    "\n",
    "2. Which type of Programming does Python support? \n",
    "ans=Python supports multiple programming paradigms including procedural, object-oriented, and functional programming.\n",
    "\n",
    "3. Is Python case sensitive when dealing with identifiers? \n",
    "ans=Yes, Python is case sensitive when dealing with identifiers.\n",
    "\n",
    "4. What is the correct extension of the Python file? \n",
    "ana=The correct extension of a Python file is \".py\".\n",
    "\n",
    "5. Is Python code compiled or interpreted?\n",
    "ans=Python code is interpreted. When a Python script is executed, the Python interpreter reads and executes the code line by line.\n",
    "\n",
    "6. Name a few blocks of code used to define in Python language? \n",
    "ans=In Python, blocks of code are defined using indentation. Some common blocks of code include function definitions, loops, and conditional statements.\n",
    "7. State a character used to give single-line comments in Python?\n",
    "ans=\"#\"is used\n",
    "\n",
    "8. Mention functions which can help us to find the version of python that we are currently working on? \n",
    "ans=The Python, blocks of code are defined using indentation. Some common blocks of code include function definitions, loops, and conditional statements.\n",
    "\n",
    "9. Python supports the creation of anonymous functions at runtime, using a construct called ?\n",
    "ans=Python supports the creation of anonymous functions at runtime using lambda expressions.\n",
    "\n",
    "10. What does pip stand for python? \n",
    "ans=PIP stands for \"Pip Installs Packages\". It is a package manager for Python packages that helps to install, upgrade, and remove Python packages and their dependence.\n",
    "\n",
    "\n",
    "\n",
    "11. Mention a few built-in functions in python? \n",
    "ans=Python has many built-in functions including \"print()\", \"len()\", \"range()\", \"sum()\", \"max()\", \"min()\", and \"abs()\".\n",
    "\n",
    "12. What is the maximum possible length of an identifier in Python? \n",
    "ansn Python, the maximum possible length of an identifier is not explicitly defined. However, it is generally recommended to keep identifiers reasonably short and meaningful.\n",
    "\n",
    "13. What are the benefits of using Python? \n",
    "ans=Some benefits of using Python include its simplicity, readability, and ease of use. It also has a large standard library and a vast ecosystem of third-party packages.\n",
    "14. How is memory managed in Python? \n",
    "ans=Memory management in Python is handled by the Python interpreter through a technique called automatic memory management. This means that the interpreter automatically allocates and deallocates memory as needed.\n",
    "15. How to install Python on Windows and set path variables?\n",
    "ans=To install Python on Windows, you can download the installer from the official Python website and follow the installation instructions. To set the path variables, you can add the Python installation directory to the PATH environment variable.\n",
    "\n",
    "\n",
    "16. Is indentation required in python?\n",
    "ans=es, indentation is required in Python to define blocks of code. Python uses whitespace indentation to indicate the level of nesting in the code."
   ]
  }
 ],
 "metadata": {
  "kernelspec": {
   "display_name": "Python 3 (ipykernel)",
   "language": "python",
   "name": "python3"
  },
  "language_info": {
   "codemirror_mode": {
    "name": "ipython",
    "version": 3
   },
   "file_extension": ".py",
   "mimetype": "text/x-python",
   "name": "python",
   "nbconvert_exporter": "python",
   "pygments_lexer": "ipython3",
   "version": "3.10.6"
  }
 },
 "nbformat": 4,
 "nbformat_minor": 5
}
